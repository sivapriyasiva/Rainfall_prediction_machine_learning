{
  "nbformat": 4,
  "nbformat_minor": 0,
  "metadata": {
    "colab": {
      "provenance": [],
      "authorship_tag": "ABX9TyNCuEdjf1MhGL/cSlA4sZ+6",
      "include_colab_link": true
    },
    "kernelspec": {
      "name": "python3",
      "display_name": "Python 3"
    },
    "language_info": {
      "name": "python"
    }
  },
  "cells": [
    {
      "cell_type": "markdown",
      "metadata": {
        "id": "view-in-github",
        "colab_type": "text"
      },
      "source": [
        "<a href=\"https://colab.research.google.com/github/sivapriyasiva/Rainfall_prediction_machine_learning/blob/main/location_based_rainfall.ipynb\" target=\"_parent\"><img src=\"https://colab.research.google.com/assets/colab-badge.svg\" alt=\"Open In Colab\"/></a>"
      ]
    },
    {
      "cell_type": "code",
      "source": [
        "Locations\n",
        "---------------\n",
        "'''\n",
        "1.Thiruchirappalli\n",
        "2.Tanjavur\n",
        "3.Tiruvarur\n",
        "4.Nagapattinam\n",
        "5.Nilgris\n",
        "6.Erode\n",
        "7.Namakkal\n",
        "8.Peramballur\n",
        "9.Ariyalur\n",
        "10.Selam\n",
        "11.Mayiladuthurai\n",
        "12.Cuddalore\n",
        "13.Kallakurichi\n",
        "14.Dharmapuri\n",
        "15.Viluppuram\n",
        "16.Krishnagiri\n",
        "17.Tirupattur\n",
        "18.Tiruvannamalai\n",
        "19.Chengalpattu\n",
        "20.Vellore\n",
        "21.Kanchipuram\n",
        "22.Chennai\n",
        "23.Tiruvallur\n",
        "24.Ranipet\n",
        "25.Tenkasi\n",
        "26.Kanyakumari\n",
        "27.Thirunelveli\n",
        "28.Thoothukudi\n",
        "29.Virudhunagar\n",
        "30.Ramanathapuram\n",
        "31.Theni\n",
        "32.Madurai\n",
        "33.Sivagangai\n",
        "34.Dindigul\n",
        "35.Pudukkottai\n",
        "36.Coimbatore\n",
        "37.Tiruppur\n",
        "38. Karur\n",
        "'''"
      ],
      "metadata": {
        "id": "Cix67kFdDmTL"
      },
      "execution_count": null,
      "outputs": []
    },
    {
      "cell_type": "code",
      "source": [
        "import pandas as pd\n",
        "import numpy as np\n",
        "from sklearn.linear_model import LinearRegression\n",
        "\n",
        "# Read the dataset\n",
        "df = pd.read_csv(\"/content/overall district data .csv\")\n",
        "\n",
        "# Ask user for input location\n",
        "user_location = input(\"Enter your location: \")\n",
        "\n",
        "# Filter the dataset by the input location\n",
        "filtered_df = df[df['Location'] == user_location]\n",
        "\n",
        "# If there is no data for the input location, exit the program\n",
        "if len(filtered_df) == 0:\n",
        "  print(\"No data found for the input location.\")\n",
        "  exit()\n",
        "\n",
        "# Print the specific location data for the requested parameters\n",
        "print(filtered_df[['day', 'month', 'year','Location', 'Temperature', 'Percipitation', 'Wind_pressure', 'Allsky_Surfce_UV_INDEX']])\n"
      ],
      "metadata": {
        "colab": {
          "base_uri": "https://localhost:8080/"
        },
        "id": "C9XmHXTi7hXA",
        "outputId": "55accf9a-9f5d-47db-c927-3ddd62a33cbc"
      },
      "execution_count": 25,
      "outputs": [
        {
          "output_type": "stream",
          "name": "stdout",
          "text": [
            "Enter your location: Tenkasi\n",
            "        day  month  year Location  Temperature  Percipitation  Wind_pressure  \\\n",
            "203784    1      1  2000  Tenkasi        22.36           0.00          98.25   \n",
            "203785    2      1  2000  Tenkasi        22.45           0.00          98.22   \n",
            "203786    3      1  2000  Tenkasi        22.75           0.00          98.17   \n",
            "203787    4      1  2000  Tenkasi        22.48           0.00          98.16   \n",
            "203788    5      1  2000  Tenkasi        23.62           0.00          98.12   \n",
            "...     ...    ...   ...      ...          ...            ...            ...   \n",
            "212270   27      3  2023  Tenkasi        33.69           0.75          98.04   \n",
            "212271   28      3  2023  Tenkasi        32.87           2.08          98.09   \n",
            "212272   29      3  2023  Tenkasi        32.63           0.83          98.15   \n",
            "212273   30      3  2023  Tenkasi        33.31           0.07          98.08   \n",
            "212274   31      3  2023  Tenkasi        34.58           0.20          97.99   \n",
            "\n",
            "        Allsky_Surfce_UV_INDEX  \n",
            "203784                  -999.0  \n",
            "203785                  -999.0  \n",
            "203786                  -999.0  \n",
            "203787                  -999.0  \n",
            "203788                  -999.0  \n",
            "...                        ...  \n",
            "212270                  -999.0  \n",
            "212271                  -999.0  \n",
            "212272                  -999.0  \n",
            "212273                  -999.0  \n",
            "212274                  -999.0  \n",
            "\n",
            "[8491 rows x 8 columns]\n"
          ]
        }
      ]
    },
    {
      "cell_type": "code",
      "source": [],
      "metadata": {
        "id": "anR5t2fy6tYb"
      },
      "execution_count": null,
      "outputs": []
    },
    {
      "cell_type": "code",
      "source": [
        "\n",
        "user_input = input(\"Enter your date dd/mm/yyyy format : \")\n",
        "day, month, year = map(int, user_input.split('/'))"
      ],
      "metadata": {
        "colab": {
          "base_uri": "https://localhost:8080/"
        },
        "id": "YCOe1Dt32QTx",
        "outputId": "bad478bc-160c-499d-aef0-17d91bab1836"
      },
      "execution_count": 6,
      "outputs": [
        {
          "name": "stdout",
          "output_type": "stream",
          "text": [
            "Enter your date dd/mm/yyyy format : 27/07/2023\n"
          ]
        }
      ]
    },
    {
      "cell_type": "code",
      "source": [
        "# Filter the dataset by the input date\n",
        "mask = (filtered_df['day'] == day) & (filtered_df['month'] == month)\n",
        "\n",
        "filter = filtered_df[mask]\n",
        "print(filter)"
      ],
      "metadata": {
        "id": "pJKFJ3mR8RgS",
        "colab": {
          "base_uri": "https://localhost:8080/"
        },
        "outputId": "e36ee6ca-ba55-45e9-b91c-a8897b796f61"
      },
      "execution_count": 24,
      "outputs": [
        {
          "output_type": "stream",
          "name": "stdout",
          "text": [
            "        year  month  day Location  Allsky_Surfce_UV_INDEX  Temperature  \\\n",
            "203992  2000      7   27  Tenkasi                 -999.00        26.33   \n",
            "204357  2001      7   27  Tenkasi                    1.99        24.01   \n",
            "204722  2002      7   27  Tenkasi                    2.28        26.75   \n",
            "205087  2003      7   27  Tenkasi                    1.85        24.26   \n",
            "205453  2004      7   27  Tenkasi                    1.63        24.06   \n",
            "205818  2005      7   27  Tenkasi                    1.92        25.08   \n",
            "206183  2006      7   27  Tenkasi                    1.77        23.81   \n",
            "206548  2007      7   27  Tenkasi                    2.48        24.36   \n",
            "206914  2008      7   27  Tenkasi                    1.37        24.12   \n",
            "207279  2009      7   27  Tenkasi                    2.21        25.50   \n",
            "207644  2010      7   27  Tenkasi                    1.85        25.53   \n",
            "208009  2011      7   27  Tenkasi                    1.74        25.30   \n",
            "208375  2012      7   27  Tenkasi                    2.30        27.80   \n",
            "208740  2013      7   27  Tenkasi                    2.01        25.45   \n",
            "209105  2014      7   27  Tenkasi                    1.87        27.19   \n",
            "209470  2015      7   27  Tenkasi                    2.40        26.47   \n",
            "209836  2016      7   27  Tenkasi                    2.20        25.08   \n",
            "210201  2017      7   27  Tenkasi                    2.47        28.71   \n",
            "210566  2018      7   27  Tenkasi                    2.27        27.07   \n",
            "210931  2019      7   27  Tenkasi                    2.02        28.02   \n",
            "211297  2020      7   27  Tenkasi                    2.45        27.40   \n",
            "211662  2021      7   27  Tenkasi                    2.35        26.14   \n",
            "212027  2022      7   27  Tenkasi                    1.80        27.17   \n",
            "\n",
            "        Percipitation  Wind_pressure  \n",
            "203992          20.37          97.92  \n",
            "204357           3.36          97.90  \n",
            "204722           1.04          98.01  \n",
            "205087           5.05          98.07  \n",
            "205453           2.84          97.93  \n",
            "205818          17.98          97.93  \n",
            "206183           5.02          98.18  \n",
            "206548           2.86          97.89  \n",
            "206914          16.66          97.95  \n",
            "207279           0.46          98.09  \n",
            "207644           1.26          98.06  \n",
            "208009           0.10          98.10  \n",
            "208375           0.00          97.84  \n",
            "208740           0.69          98.07  \n",
            "209105           0.76          98.23  \n",
            "209470           0.01          98.20  \n",
            "209836           3.08          97.96  \n",
            "210201           1.66          98.01  \n",
            "210566           0.12          98.07  \n",
            "210931           0.00          98.01  \n",
            "211297           0.06          98.02  \n",
            "211662           0.57          98.02  \n",
            "212027          13.47          97.97  \n"
          ]
        }
      ]
    },
    {
      "cell_type": "code",
      "source": [
        "# If there is no data for the input date, exit the program\n",
        "if len(filter) == 0:\n",
        "  print(\"No data found for the input date.\")\n",
        "  exit()\n"
      ],
      "metadata": {
        "id": "dfB-i8El9Av4"
      },
      "execution_count": 8,
      "outputs": []
    },
    {
      "cell_type": "code",
      "source": [
        "# Create a pandas Series with the rainfall data\n",
        "rainfall = pd.Series(filter['Percipitation'])\n",
        "print(f\"{filter['year']} - {rainfall}\")\n",
        "\n",
        "\n",
        "\n"
      ],
      "metadata": {
        "colab": {
          "base_uri": "https://localhost:8080/"
        },
        "id": "FP-iSik69Duv",
        "outputId": "b753104a-6aff-4f4b-c4d6-fa9e74c4a962"
      },
      "execution_count": 9,
      "outputs": [
        {
          "output_type": "stream",
          "name": "stdout",
          "text": [
            "203992    2000\n",
            "204357    2001\n",
            "204722    2002\n",
            "205087    2003\n",
            "205453    2004\n",
            "205818    2005\n",
            "206183    2006\n",
            "206548    2007\n",
            "206914    2008\n",
            "207279    2009\n",
            "207644    2010\n",
            "208009    2011\n",
            "208375    2012\n",
            "208740    2013\n",
            "209105    2014\n",
            "209470    2015\n",
            "209836    2016\n",
            "210201    2017\n",
            "210566    2018\n",
            "210931    2019\n",
            "211297    2020\n",
            "211662    2021\n",
            "212027    2022\n",
            "Name: year, dtype: int64 - 203992    20.37\n",
            "204357     3.36\n",
            "204722     1.04\n",
            "205087     5.05\n",
            "205453     2.84\n",
            "205818    17.98\n",
            "206183     5.02\n",
            "206548     2.86\n",
            "206914    16.66\n",
            "207279     0.46\n",
            "207644     1.26\n",
            "208009     0.10\n",
            "208375     0.00\n",
            "208740     0.69\n",
            "209105     0.76\n",
            "209470     0.01\n",
            "209836     3.08\n",
            "210201     1.66\n",
            "210566     0.12\n",
            "210931     0.00\n",
            "211297     0.06\n",
            "211662     0.57\n",
            "212027    13.47\n",
            "Name: Percipitation, dtype: float64\n"
          ]
        }
      ]
    },
    {
      "cell_type": "code",
      "source": [
        "\n",
        "# If there is only one data point, exit the program\n",
        "if len(rainfall) <= 1:\n",
        "  print(\"Not enough data to make a prediction.\")\n",
        "  exit()"
      ],
      "metadata": {
        "id": "QaeMeW-K9VwA"
      },
      "execution_count": 10,
      "outputs": []
    },
    {
      "cell_type": "code",
      "source": [
        "# Create a numpy array for the input data\n",
        "X = np.array(range(len(rainfall))).reshape(-1, 1)\n",
        "X"
      ],
      "metadata": {
        "colab": {
          "base_uri": "https://localhost:8080/"
        },
        "id": "nhQns9lE9XP4",
        "outputId": "6481bf77-4600-4c8f-88ec-e9c5acbe0df0"
      },
      "execution_count": 11,
      "outputs": [
        {
          "output_type": "execute_result",
          "data": {
            "text/plain": [
              "array([[ 0],\n",
              "       [ 1],\n",
              "       [ 2],\n",
              "       [ 3],\n",
              "       [ 4],\n",
              "       [ 5],\n",
              "       [ 6],\n",
              "       [ 7],\n",
              "       [ 8],\n",
              "       [ 9],\n",
              "       [10],\n",
              "       [11],\n",
              "       [12],\n",
              "       [13],\n",
              "       [14],\n",
              "       [15],\n",
              "       [16],\n",
              "       [17],\n",
              "       [18],\n",
              "       [19],\n",
              "       [20],\n",
              "       [21],\n",
              "       [22]])"
            ]
          },
          "metadata": {},
          "execution_count": 11
        }
      ]
    },
    {
      "cell_type": "code",
      "source": [
        "\n",
        "# Create a numpy array for the output data\n",
        "y = np.array(rainfall)\n",
        "y"
      ],
      "metadata": {
        "colab": {
          "base_uri": "https://localhost:8080/"
        },
        "id": "Haqth0tU9eOm",
        "outputId": "82eb950f-81ed-4e68-9cd4-2bfc702a6a98"
      },
      "execution_count": 12,
      "outputs": [
        {
          "output_type": "execute_result",
          "data": {
            "text/plain": [
              "array([2.037e+01, 3.360e+00, 1.040e+00, 5.050e+00, 2.840e+00, 1.798e+01,\n",
              "       5.020e+00, 2.860e+00, 1.666e+01, 4.600e-01, 1.260e+00, 1.000e-01,\n",
              "       0.000e+00, 6.900e-01, 7.600e-01, 1.000e-02, 3.080e+00, 1.660e+00,\n",
              "       1.200e-01, 0.000e+00, 6.000e-02, 5.700e-01, 1.347e+01])"
            ]
          },
          "metadata": {},
          "execution_count": 12
        }
      ]
    },
    {
      "cell_type": "code",
      "source": [
        "# Create a linear regression model and fit it to the data\n",
        "model = LinearRegression()\n",
        "model.fit(X, y)"
      ],
      "metadata": {
        "colab": {
          "base_uri": "https://localhost:8080/",
          "height": 75
        },
        "id": "CaGwRrwt9iO1",
        "outputId": "b2acd958-f479-4b45-9f6d-e2627a735139"
      },
      "execution_count": 13,
      "outputs": [
        {
          "output_type": "execute_result",
          "data": {
            "text/plain": [
              "LinearRegression()"
            ],
            "text/html": [
              "<style>#sk-container-id-1 {color: black;background-color: white;}#sk-container-id-1 pre{padding: 0;}#sk-container-id-1 div.sk-toggleable {background-color: white;}#sk-container-id-1 label.sk-toggleable__label {cursor: pointer;display: block;width: 100%;margin-bottom: 0;padding: 0.3em;box-sizing: border-box;text-align: center;}#sk-container-id-1 label.sk-toggleable__label-arrow:before {content: \"▸\";float: left;margin-right: 0.25em;color: #696969;}#sk-container-id-1 label.sk-toggleable__label-arrow:hover:before {color: black;}#sk-container-id-1 div.sk-estimator:hover label.sk-toggleable__label-arrow:before {color: black;}#sk-container-id-1 div.sk-toggleable__content {max-height: 0;max-width: 0;overflow: hidden;text-align: left;background-color: #f0f8ff;}#sk-container-id-1 div.sk-toggleable__content pre {margin: 0.2em;color: black;border-radius: 0.25em;background-color: #f0f8ff;}#sk-container-id-1 input.sk-toggleable__control:checked~div.sk-toggleable__content {max-height: 200px;max-width: 100%;overflow: auto;}#sk-container-id-1 input.sk-toggleable__control:checked~label.sk-toggleable__label-arrow:before {content: \"▾\";}#sk-container-id-1 div.sk-estimator input.sk-toggleable__control:checked~label.sk-toggleable__label {background-color: #d4ebff;}#sk-container-id-1 div.sk-label input.sk-toggleable__control:checked~label.sk-toggleable__label {background-color: #d4ebff;}#sk-container-id-1 input.sk-hidden--visually {border: 0;clip: rect(1px 1px 1px 1px);clip: rect(1px, 1px, 1px, 1px);height: 1px;margin: -1px;overflow: hidden;padding: 0;position: absolute;width: 1px;}#sk-container-id-1 div.sk-estimator {font-family: monospace;background-color: #f0f8ff;border: 1px dotted black;border-radius: 0.25em;box-sizing: border-box;margin-bottom: 0.5em;}#sk-container-id-1 div.sk-estimator:hover {background-color: #d4ebff;}#sk-container-id-1 div.sk-parallel-item::after {content: \"\";width: 100%;border-bottom: 1px solid gray;flex-grow: 1;}#sk-container-id-1 div.sk-label:hover label.sk-toggleable__label {background-color: #d4ebff;}#sk-container-id-1 div.sk-serial::before {content: \"\";position: absolute;border-left: 1px solid gray;box-sizing: border-box;top: 0;bottom: 0;left: 50%;z-index: 0;}#sk-container-id-1 div.sk-serial {display: flex;flex-direction: column;align-items: center;background-color: white;padding-right: 0.2em;padding-left: 0.2em;position: relative;}#sk-container-id-1 div.sk-item {position: relative;z-index: 1;}#sk-container-id-1 div.sk-parallel {display: flex;align-items: stretch;justify-content: center;background-color: white;position: relative;}#sk-container-id-1 div.sk-item::before, #sk-container-id-1 div.sk-parallel-item::before {content: \"\";position: absolute;border-left: 1px solid gray;box-sizing: border-box;top: 0;bottom: 0;left: 50%;z-index: -1;}#sk-container-id-1 div.sk-parallel-item {display: flex;flex-direction: column;z-index: 1;position: relative;background-color: white;}#sk-container-id-1 div.sk-parallel-item:first-child::after {align-self: flex-end;width: 50%;}#sk-container-id-1 div.sk-parallel-item:last-child::after {align-self: flex-start;width: 50%;}#sk-container-id-1 div.sk-parallel-item:only-child::after {width: 0;}#sk-container-id-1 div.sk-dashed-wrapped {border: 1px dashed gray;margin: 0 0.4em 0.5em 0.4em;box-sizing: border-box;padding-bottom: 0.4em;background-color: white;}#sk-container-id-1 div.sk-label label {font-family: monospace;font-weight: bold;display: inline-block;line-height: 1.2em;}#sk-container-id-1 div.sk-label-container {text-align: center;}#sk-container-id-1 div.sk-container {/* jupyter's `normalize.less` sets `[hidden] { display: none; }` but bootstrap.min.css set `[hidden] { display: none !important; }` so we also need the `!important` here to be able to override the default hidden behavior on the sphinx rendered scikit-learn.org. See: https://github.com/scikit-learn/scikit-learn/issues/21755 */display: inline-block !important;position: relative;}#sk-container-id-1 div.sk-text-repr-fallback {display: none;}</style><div id=\"sk-container-id-1\" class=\"sk-top-container\"><div class=\"sk-text-repr-fallback\"><pre>LinearRegression()</pre><b>In a Jupyter environment, please rerun this cell to show the HTML representation or trust the notebook. <br />On GitHub, the HTML representation is unable to render, please try loading this page with nbviewer.org.</b></div><div class=\"sk-container\" hidden><div class=\"sk-item\"><div class=\"sk-estimator sk-toggleable\"><input class=\"sk-toggleable__control sk-hidden--visually\" id=\"sk-estimator-id-1\" type=\"checkbox\" checked><label for=\"sk-estimator-id-1\" class=\"sk-toggleable__label sk-toggleable__label-arrow\">LinearRegression</label><div class=\"sk-toggleable__content\"><pre>LinearRegression()</pre></div></div></div></div></div>"
            ]
          },
          "metadata": {},
          "execution_count": 13
        }
      ]
    },
    {
      "cell_type": "code",
      "source": [
        "# Predict the output for the next data point\n",
        "next_input = np.array([[len(rainfall)]])\n",
        "next_output = model.predict(next_input)\n",
        "print(next_input )\n",
        "print(next_output)"
      ],
      "metadata": {
        "colab": {
          "base_uri": "https://localhost:8080/"
        },
        "id": "6XHAN1zp-FAi",
        "outputId": "e824667d-d67c-47b3-c85f-6ab59095a34a"
      },
      "execution_count": 14,
      "outputs": [
        {
          "output_type": "stream",
          "name": "stdout",
          "text": [
            "[[23]]\n",
            "[0.20901186]\n"
          ]
        }
      ]
    },
    {
      "cell_type": "code",
      "source": [
        "\n",
        "# Check if the predicted output is greater than or equal to 0.5\n",
        "if next_output >= 0.5:\n",
        "  final_output = 1\n",
        "else:\n",
        "  final_output = 0"
      ],
      "metadata": {
        "id": "EDv7mhpG-LuG"
      },
      "execution_count": 15,
      "outputs": []
    },
    {
      "cell_type": "code",
      "source": [
        "# Print the final output\n",
        "print(f\"The final output of the rainfall is {final_output}.\")\n",
        "if final_output == 1:\n",
        "  print(\"Today is rainfall\")\n",
        "else:\n",
        "  print(\"Not expecting rainfall, \" , user_input)"
      ],
      "metadata": {
        "colab": {
          "base_uri": "https://localhost:8080/"
        },
        "id": "Q5Oa3Lxs-Tu5",
        "outputId": "85976d2b-7d1b-4b64-fa95-e9d40dccf0ab"
      },
      "execution_count": 19,
      "outputs": [
        {
          "output_type": "stream",
          "name": "stdout",
          "text": [
            "The final output of the rainfall is 0.\n",
            "Not expecting rainfall,  27/07/2023\n"
          ]
        }
      ]
    },
    {
      "cell_type": "code",
      "source": [
        "import matplotlib.pyplot as plt\n",
        "\n",
        "plt.bar(user_input,next_output)\n",
        "print(next_output)\n",
        "plt.plot(X,y , color='red')\n",
        "print(X)\n",
        "print(y)\n",
        "plt.xlabel('user_input')\n",
        "plt.ylabel('predict rainfall')\n",
        "plt.show()"
      ],
      "metadata": {
        "colab": {
          "base_uri": "https://localhost:8080/",
          "height": 936
        },
        "id": "Z7001T9fbPXK",
        "outputId": "e6d541a4-3a4d-473c-88ec-9f184b58ed01"
      },
      "execution_count": 20,
      "outputs": [
        {
          "output_type": "stream",
          "name": "stdout",
          "text": [
            "[0.20901186]\n",
            "[[ 0]\n",
            " [ 1]\n",
            " [ 2]\n",
            " [ 3]\n",
            " [ 4]\n",
            " [ 5]\n",
            " [ 6]\n",
            " [ 7]\n",
            " [ 8]\n",
            " [ 9]\n",
            " [10]\n",
            " [11]\n",
            " [12]\n",
            " [13]\n",
            " [14]\n",
            " [15]\n",
            " [16]\n",
            " [17]\n",
            " [18]\n",
            " [19]\n",
            " [20]\n",
            " [21]\n",
            " [22]]\n",
            "[2.037e+01 3.360e+00 1.040e+00 5.050e+00 2.840e+00 1.798e+01 5.020e+00\n",
            " 2.860e+00 1.666e+01 4.600e-01 1.260e+00 1.000e-01 0.000e+00 6.900e-01\n",
            " 7.600e-01 1.000e-02 3.080e+00 1.660e+00 1.200e-01 0.000e+00 6.000e-02\n",
            " 5.700e-01 1.347e+01]\n"
          ]
        },
        {
          "output_type": "display_data",
          "data": {
            "text/plain": [
              "<Figure size 640x480 with 1 Axes>"
            ],
            "image/png": "[encoded data removed]"
          },
          "metadata": {}
        }
      ]
    },
    {
      "cell_type": "code",
      "source": [
        "import matplotlib.pyplot as plt\n",
        "plt.figure(figsize=(10, 6)) #width =10, height=6\n",
        "plt.plot(filter['year'], rainfall)\n",
        "plt.title(\"year wise rainfall\")\n",
        "plt.xlabel('Year')\n",
        "plt.ylabel('Rainfall')\n",
        "plt.show()"
      ],
      "metadata": {
        "colab": {
          "base_uri": "https://localhost:8080/",
          "height": 564
        },
        "id": "C0aEAwUfBXSB",
        "outputId": "0669b93e-d16d-4165-c213-64147b65bfe8"
      },
      "execution_count": 23,
      "outputs": [
        {
          "output_type": "display_data",
          "data": {
            "text/plain": [
              "<Figure size 1000x600 with 1 Axes>"
            ],
            "image/png": "[encoded data removed]"
          },
          "metadata": {}
        }
      ]
    }
  ]
}